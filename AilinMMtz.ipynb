{
  "nbformat": 4,
  "nbformat_minor": 0,
  "metadata": {
    "colab": {
      "provenance": [],
      "authorship_tag": "ABX9TyPxwKIg1JozCKsRhhlZIW3C",
      "include_colab_link": true
    },
    "kernelspec": {
      "name": "python3",
      "display_name": "Python 3"
    },
    "language_info": {
      "name": "python"
    }
  },
  "cells": [
    {
      "cell_type": "markdown",
      "metadata": {
        "id": "view-in-github",
        "colab_type": "text"
      },
      "source": [
        "<a href=\"https://colab.research.google.com/github/Ailinmorin/Repaso-Python/blob/main/AilinMMtz.ipynb\" target=\"_parent\"><img src=\"https://colab.research.google.com/assets/colab-badge.svg\" alt=\"Open In Colab\"/></a>"
      ]
    },
    {
      "cell_type": "code",
      "execution_count": null,
      "metadata": {
        "id": "eyDftBQOz6sc"
      },
      "outputs": [],
      "source": []
    },
    {
      "cell_type": "markdown",
      "source": [
        "programa 1 en python para imprimir el nombre con hola mundo"
      ],
      "metadata": {
        "id": "WsUbXPE20KXg"
      }
    },
    {
      "cell_type": "code",
      "source": [
        "print (\"Hola mundo\")\n",
        "nombre=(input(\"Captura nombre\"))\n",
        "print (nombre)\n"
      ],
      "metadata": {
        "colab": {
          "base_uri": "https://localhost:8080/"
        },
        "id": "qCQPEB330Wj7",
        "outputId": "87576ce0-18d4-4133-b6ea-1eca5333d7c2"
      },
      "execution_count": 1,
      "outputs": [
        {
          "output_type": "stream",
          "name": "stdout",
          "text": [
            "Hola mundo\n",
            "Captura nombreAilin\n",
            "Ailin\n"
          ]
        }
      ]
    },
    {
      "cell_type": "markdown",
      "source": [
        "Programa 2 capturar nombre, paterno y materno e imprimirlo en pantalla"
      ],
      "metadata": {
        "id": "L8DIdQB31aSC"
      }
    },
    {
      "cell_type": "code",
      "source": [
        "print (\"Captura tu nombre completo\")\n",
        "nombr=(input(\"Ingresar nombre: \"))\n",
        "print(\"-\")\n",
        "apell=(input(\"Ingresa tu apellido paterno: \"))\n",
        "print(\"-\")\n",
        "apellido=(input(\"Ingresa tu apellido materno\"))\n",
        "print(\"-\")\n",
        "print(nombr+apell+apellido)"
      ],
      "metadata": {
        "colab": {
          "base_uri": "https://localhost:8080/"
        },
        "id": "c5ezgigb1jHb",
        "outputId": "644844a0-a683-4f0a-98f8-78e4df1efa13"
      },
      "execution_count": 2,
      "outputs": [
        {
          "output_type": "stream",
          "name": "stdout",
          "text": [
            "Captura tu nombre completo\n",
            "Ingresar nombre: Ailin\n",
            "-\n",
            "Ingresa tu apellido paterno: Morin\n",
            "-\n",
            "Ingresa tu apellido maternoMartinez\n",
            "-\n",
            "AilinMorinMartinez\n"
          ]
        }
      ]
    }
  ]
}