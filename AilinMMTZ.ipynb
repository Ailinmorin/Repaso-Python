{
  "nbformat": 4,
  "nbformat_minor": 0,
  "metadata": {
    "colab": {
      "provenance": [],
      "authorship_tag": "ABX9TyMbHYkhjsNzIAqNE3lPSZJZ",
      "include_colab_link": true
    },
    "kernelspec": {
      "name": "python3",
      "display_name": "Python 3"
    },
    "language_info": {
      "name": "python"
    }
  },
  "cells": [
    {
      "cell_type": "markdown",
      "metadata": {
        "id": "view-in-github",
        "colab_type": "text"
      },
      "source": [
        "<a href=\"https://colab.research.google.com/github/Ailinmorin/Repaso-Python/blob/main/AilinMMTZ.ipynb\" target=\"_parent\"><img src=\"https://colab.research.google.com/assets/colab-badge.svg\" alt=\"Open In Colab\"/></a>"
      ]
    },
    {
      "cell_type": "markdown",
      "source": [
        "Codigo1.- Imprimir nombre, paterno y materno de Alumno con CSS"
      ],
      "metadata": {
        "id": "X-Wbe9Bf0vrJ"
      }
    },
    {
      "cell_type": "code",
      "execution_count": 5,
      "metadata": {
        "colab": {
          "base_uri": "https://localhost:8080/"
        },
        "id": "wsLvKLr7zz2q",
        "outputId": "698ff3e3-0ba0-429b-8f20-e8e2e801b4e7"
      },
      "outputs": [
        {
          "output_type": "stream",
          "name": "stdout",
          "text": [
            "Ingresa tu nombre\n",
            "Ailin\n",
            "Ingresa tu apellido paterno\n",
            "Morin\n",
            "Ingresa tu apellido materno\n",
            "Martinez\n",
            "Tu nombre compreto es: Ailin Morin Martinez\n"
          ]
        }
      ],
      "source": [
        "print (\"Ingresa tu nombre\")\n",
        "nombre=input()\n",
        "print(\"Ingresa tu apellido paterno\")\n",
        "apellidop=input()\n",
        "print(\"Ingresa tu apellido materno\")\n",
        "apellidom=input()\n",
        "print(\"Tu nombre compreto es:\",nombre,apellidop,apellidom)"
      ]
    },
    {
      "cell_type": "markdown",
      "source": [
        "Codigo2.- Capturar 2 números decimales e imprimir Suma"
      ],
      "metadata": {
        "id": "BpVPtHKN26Jn"
      }
    },
    {
      "cell_type": "code",
      "source": [
        "print(\"ingresa dos numeros decimales\")\n",
        "print(\"ingresa el primer numero decimal\")\n",
        "num1=float(input())\n",
        "print(\"ingresa el segundo numero decimal\")\n",
        "num2=float(input())\n",
        "suma=num1+num2\n",
        "print(\"La suma de ambos numeros es:\",suma)"
      ],
      "metadata": {
        "colab": {
          "base_uri": "https://localhost:8080/"
        },
        "id": "Nef04CQo2-9z",
        "outputId": "39af9a4c-e6a7-45ff-c279-71db5d564e25"
      },
      "execution_count": 7,
      "outputs": [
        {
          "output_type": "stream",
          "name": "stdout",
          "text": [
            "ingresa dos numeros decimales\n",
            "ingresa el primer numero decimal\n",
            "1.1\n",
            "ingresa el segundo numero decimal\n",
            "1.1\n",
            "La suma de ambos numeros es: 2.2\n"
          ]
        }
      ]
    },
    {
      "cell_type": "markdown",
      "source": [
        "Codigo3.- Calcular el área de un círculo"
      ],
      "metadata": {
        "id": "D29muVYb3qu5"
      }
    },
    {
      "cell_type": "code",
      "source": [
        "print(\"Ingresa el radio de tu circulo\")\n",
        "r=float(input())\n",
        "pi=3.1416\n",
        "area=pi*(r**2)\n",
        "print(\"El area de tu circulo es:\",area)"
      ],
      "metadata": {
        "colab": {
          "base_uri": "https://localhost:8080/"
        },
        "id": "M0LENTgD3ux4",
        "outputId": "cc0642db-9988-49a3-ea6d-6f77405ee6f9"
      },
      "execution_count": 14,
      "outputs": [
        {
          "output_type": "stream",
          "name": "stdout",
          "text": [
            "Ingresa el radio de tu circulo\n",
            "3\n",
            "El area de tu circulo es: 28.2744\n"
          ]
        }
      ]
    },
    {
      "cell_type": "markdown",
      "source": [
        "Codigo4.- Ejemplo de código y ventana resultante de semestre pasado."
      ],
      "metadata": {
        "id": "Jii8gciG6RoG"
      }
    },
    {
      "cell_type": "markdown",
      "source": [
        "db.carros.find({modelo:\"tavrus\"})\n",
        "db.carros.find({nocarros:55})\n",
        "db.carros.find({marca:\"fiat\"})\n",
        "db.carros.find({color:\"rojo\"})\n",
        "\n",
        "\n"
      ],
      "metadata": {
        "id": "kBJM5KAL6kqC"
      }
    }
  ]
}