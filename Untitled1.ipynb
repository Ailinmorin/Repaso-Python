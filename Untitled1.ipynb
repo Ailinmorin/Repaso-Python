{
  "nbformat": 4,
  "nbformat_minor": 0,
  "metadata": {
    "colab": {
      "provenance": [],
      "authorship_tag": "ABX9TyPYv8/gRCUjK33CAbyqGDaP",
      "include_colab_link": true
    },
    "kernelspec": {
      "name": "python3",
      "display_name": "Python 3"
    },
    "language_info": {
      "name": "python"
    }
  },
  "cells": [
    {
      "cell_type": "markdown",
      "metadata": {
        "id": "view-in-github",
        "colab_type": "text"
      },
      "source": [
        "<a href=\"https://colab.research.google.com/github/Ailinmorin/Repaso-Python/blob/main/Untitled1.ipynb\" target=\"_parent\"><img src=\"https://colab.research.google.com/assets/colab-badge.svg\" alt=\"Open In Colab\"/></a>"
      ]
    },
    {
      "cell_type": "code",
      "execution_count": 1,
      "metadata": {
        "colab": {
          "base_uri": "https://localhost:8080/"
        },
        "id": "41wqAWVKC6ip",
        "outputId": "741ea7af-0296-41b0-a614-be90f559fe07"
      },
      "outputs": [
        {
          "output_type": "stream",
          "name": "stdout",
          "text": [
            "Programa 1\n",
            "Captura tu 1er numero: 10\n",
            "Captura tu 2do numero: 2\n",
            "Resultados\n",
            "Suma: \n",
            "12\n",
            "Resta: \n",
            "8\n",
            "Multiplicacion: \n",
            "20\n",
            "Division: \n",
            "5.0\n"
          ]
        }
      ],
      "source": [
        "print (\"Programa 1\")\n",
        "num1 = (int(input(\"Captura tu 1er numero: \")))\n",
        "num2 = (int(input(\"Captura tu 2do numero: \")))\n",
        "sum = num1 + num2\n",
        "res = num1 - num2\n",
        "mul = num1 * num2\n",
        "div = num1 / num2\n",
        "print (\"Resultados\")\n",
        "print (\"Suma: \")\n",
        "print (sum)\n",
        "print (\"Resta: \")\n",
        "print (res)\n",
        "print (\"Multiplicacion: \")\n",
        "print (mul)\n",
        "print (\"Division: \")\n",
        "print (div)"
      ]
    },
    {
      "cell_type": "code",
      "source": [
        "print(\"programa 2\")\n",
        "n=(input(\"ingresa el nombre\"))\n",
        "n=(len(n))\n",
        "print(\"El total de caracteres son\",n)\n"
      ],
      "metadata": {
        "colab": {
          "base_uri": "https://localhost:8080/"
        },
        "id": "g27ubaerDCkE",
        "outputId": "baeb5c24-430b-4a5d-ba90-8a871fbcf042"
      },
      "execution_count": 3,
      "outputs": [
        {
          "output_type": "stream",
          "name": "stdout",
          "text": [
            "programa 2\n",
            "ingresa el nombreailin\n",
            "El total de caracteres son 5\n"
          ]
        }
      ]
    },
    {
      "cell_type": "code",
      "source": [
        "print(\"programa 3\")\n",
        "semana=[\"lunes\",\"martes\",\"miercoles\",\"jueves\",\"viernes\",\"sabado\",\"domingo\"]\n",
        "print(semana)"
      ],
      "metadata": {
        "colab": {
          "base_uri": "https://localhost:8080/"
        },
        "id": "HxSD3uf9D9V6",
        "outputId": "f329df69-e49e-4a9f-a992-c4abaede9f32"
      },
      "execution_count": 5,
      "outputs": [
        {
          "output_type": "stream",
          "name": "stdout",
          "text": [
            "programa 3\n",
            "['lunes', 'martes', 'miercoles', 'jueves', 'viernes', 'sabado', 'domingo']\n"
          ]
        }
      ]
    }
  ]
}